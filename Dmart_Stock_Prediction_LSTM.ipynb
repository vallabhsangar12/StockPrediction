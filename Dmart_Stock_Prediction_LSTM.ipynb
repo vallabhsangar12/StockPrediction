{
 "cells": [
  {
   "cell_type": "code",
   "execution_count": 13,
   "metadata": {},
   "outputs": [],
   "source": [
    "'''import yfinance as yf\n",
    "from datetime import datetime\n",
    "import pandas as pd\n",
    "\n",
    "# Define the ticker and date range\n",
    "ticker = 'dMART.NS'\n",
    "start_date = '2020-01-01'\n",
    "end_date = '2024-01-01'\n",
    "#end_date = datetime.now().strftime('%Y-%m-%d')  # Get today's date\n",
    "\n",
    "# Download the data\n",
    "df = yf.download(ticker, start=start_date, end=end_date)\n",
    "data=pd.DataFrame(df)\n",
    "print(data.head())\n",
    "data.to_csv('dmart.csv')\n",
    "df.dropna()\n",
    "# Display the data\n",
    "print(df.tail(15)) '''\n",
    "\n",
    "import pandas as pd\n",
    "import numpy as np\n",
    "import matplotlib.pyplot as plt\n",
    "\n"
   ]
  },
  {
   "cell_type": "code",
   "execution_count": 14,
   "metadata": {},
   "outputs": [],
   "source": [
    "df = pd.read_csv('dmart.csv')"
   ]
  },
  {
   "cell_type": "code",
   "execution_count": 15,
   "metadata": {},
   "outputs": [
    {
     "data": {
      "text/plain": [
       "(993, 7)"
      ]
     },
     "execution_count": 15,
     "metadata": {},
     "output_type": "execute_result"
    }
   ],
   "source": [
    "df.shape"
   ]
  },
  {
   "cell_type": "code",
   "execution_count": 16,
   "metadata": {},
   "outputs": [
    {
     "data": {
      "text/html": [
       "<div>\n",
       "<style scoped>\n",
       "    .dataframe tbody tr th:only-of-type {\n",
       "        vertical-align: middle;\n",
       "    }\n",
       "\n",
       "    .dataframe tbody tr th {\n",
       "        vertical-align: top;\n",
       "    }\n",
       "\n",
       "    .dataframe thead th {\n",
       "        text-align: right;\n",
       "    }\n",
       "</style>\n",
       "<table border=\"1\" class=\"dataframe\">\n",
       "  <thead>\n",
       "    <tr style=\"text-align: right;\">\n",
       "      <th></th>\n",
       "      <th>Price</th>\n",
       "      <th>Adj Close</th>\n",
       "      <th>Close</th>\n",
       "      <th>High</th>\n",
       "      <th>Low</th>\n",
       "      <th>Open</th>\n",
       "      <th>Volume</th>\n",
       "    </tr>\n",
       "  </thead>\n",
       "  <tbody>\n",
       "    <tr>\n",
       "      <th>0</th>\n",
       "      <td>Date</td>\n",
       "      <td>DMART.NS</td>\n",
       "      <td>DMART.NS</td>\n",
       "      <td>DMART.NS</td>\n",
       "      <td>DMART.NS</td>\n",
       "      <td>DMART.NS</td>\n",
       "      <td>DMART.NS</td>\n",
       "    </tr>\n",
       "    <tr>\n",
       "      <th>1</th>\n",
       "      <td>01-01-20</td>\n",
       "      <td>1828.5</td>\n",
       "      <td>1828.5</td>\n",
       "      <td>1867</td>\n",
       "      <td>1820</td>\n",
       "      <td>1849.699951</td>\n",
       "      <td>429407</td>\n",
       "    </tr>\n",
       "    <tr>\n",
       "      <th>2</th>\n",
       "      <td>02-01-20</td>\n",
       "      <td>1824.199951</td>\n",
       "      <td>1824.199951</td>\n",
       "      <td>1854.849976</td>\n",
       "      <td>1815</td>\n",
       "      <td>1831</td>\n",
       "      <td>459356</td>\n",
       "    </tr>\n",
       "    <tr>\n",
       "      <th>3</th>\n",
       "      <td>03-01-20</td>\n",
       "      <td>1843.550049</td>\n",
       "      <td>1843.550049</td>\n",
       "      <td>1853</td>\n",
       "      <td>1827</td>\n",
       "      <td>1827</td>\n",
       "      <td>394268</td>\n",
       "    </tr>\n",
       "    <tr>\n",
       "      <th>4</th>\n",
       "      <td>06-01-20</td>\n",
       "      <td>1789.900024</td>\n",
       "      <td>1789.900024</td>\n",
       "      <td>1829</td>\n",
       "      <td>1780</td>\n",
       "      <td>1827</td>\n",
       "      <td>398623</td>\n",
       "    </tr>\n",
       "  </tbody>\n",
       "</table>\n",
       "</div>"
      ],
      "text/plain": [
       "      Price    Adj Close        Close         High       Low         Open  \\\n",
       "0      Date     DMART.NS     DMART.NS     DMART.NS  DMART.NS     DMART.NS   \n",
       "1  01-01-20       1828.5       1828.5         1867      1820  1849.699951   \n",
       "2  02-01-20  1824.199951  1824.199951  1854.849976      1815         1831   \n",
       "3  03-01-20  1843.550049  1843.550049         1853      1827         1827   \n",
       "4  06-01-20  1789.900024  1789.900024         1829      1780         1827   \n",
       "\n",
       "     Volume  \n",
       "0  DMART.NS  \n",
       "1    429407  \n",
       "2    459356  \n",
       "3    394268  \n",
       "4    398623  "
      ]
     },
     "execution_count": 16,
     "metadata": {},
     "output_type": "execute_result"
    }
   ],
   "source": [
    "df.head()"
   ]
  },
  {
   "cell_type": "markdown",
   "metadata": {},
   "source": [
    "DATA PRE-PROCESSING"
   ]
  },
  {
   "cell_type": "code",
   "execution_count": null,
   "metadata": {},
   "outputs": [],
   "source": []
  },
  {
   "cell_type": "code",
   "execution_count": null,
   "metadata": {},
   "outputs": [],
   "source": []
  }
 ],
 "metadata": {
  "kernelspec": {
   "display_name": "Python 3",
   "language": "python",
   "name": "python3"
  },
  "language_info": {
   "codemirror_mode": {
    "name": "ipython",
    "version": 3
   },
   "file_extension": ".py",
   "mimetype": "text/x-python",
   "name": "python",
   "nbconvert_exporter": "python",
   "pygments_lexer": "ipython3",
   "version": "3.12.4"
  }
 },
 "nbformat": 4,
 "nbformat_minor": 2
}
